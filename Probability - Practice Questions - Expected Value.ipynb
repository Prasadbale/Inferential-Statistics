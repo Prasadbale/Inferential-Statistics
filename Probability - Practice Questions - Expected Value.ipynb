{
 "cells": [
  {
   "cell_type": "markdown",
   "id": "5a63cbd3",
   "metadata": {},
   "source": [
    "Let's say that Rajya Laxmi Bank has given student loans to 10,000 people. However, the government wants to ensure that the bank is not giving risky loans and, hence, wants to know the “expected loss” of the bank’s student loan portfolio.\n",
    "\n",
    "\n",
    "\n",
    "The expected loss is the expected value of the money lost by the bank due to people defaulting on their loans, i.e., not paying their EMIs.\n",
    "\n",
    "Here,\n",
    "\n",
    "Exposure at default (EAD) is the total money owed by the customer in case of default.\n",
    "\n",
    "Recovery (R) is the percentage of the exposed money that the bank would be able to recover.\n",
    "\n",
    "For example, in the example above, the bank would recover 20% of the exposed money, i.e., 20% * 11.5 = ₹2.3 lakh.\n",
    "\n",
    "Probability of default (PD) is the probability that the customer will default. This is calculated for each customer using a number of factors such as family income, university attended, etc."
   ]
  },
  {
   "cell_type": "code",
   "execution_count": 1,
   "id": "0e37bd67",
   "metadata": {},
   "outputs": [],
   "source": [
    "import numpy as np\n",
    "import pandas as pd"
   ]
  },
  {
   "cell_type": "code",
   "execution_count": 2,
   "id": "15129d82",
   "metadata": {},
   "outputs": [
    {
     "data": {
      "text/plain": [
       "(10000, 6)"
      ]
     },
     "execution_count": 2,
     "metadata": {},
     "output_type": "execute_result"
    }
   ],
   "source": [
    "data = pd.read_csv('Inferential Statistics - Student Loan.csv')\n",
    "\n",
    "data.shape"
   ]
  },
  {
   "cell_type": "code",
   "execution_count": 3,
   "id": "9b736252",
   "metadata": {},
   "outputs": [
    {
     "name": "stdout",
     "output_type": "stream",
     "text": [
      "<class 'pandas.core.frame.DataFrame'>\n",
      "RangeIndex: 10000 entries, 0 to 9999\n",
      "Data columns (total 4 columns):\n",
      " #   Column                             Non-Null Count  Dtype  \n",
      "---  ------                             --------------  -----  \n",
      " 0   Customer No.                       10000 non-null  int64  \n",
      " 1   Exposure at Default (in lakh Rs.)  10000 non-null  float64\n",
      " 2   Recovery (%)                       10000 non-null  float64\n",
      " 3   Probability of Default             10000 non-null  float64\n",
      "dtypes: float64(3), int64(1)\n",
      "memory usage: 312.6 KB\n"
     ]
    }
   ],
   "source": [
    "#dropping null columns\n",
    "data.drop(['Unnamed: 4','Unnamed: 5'],axis=1,inplace=True)\n",
    "\n",
    "#Fixing datatype for Recovery percentage\n",
    "data['Recovery (%)'] = data['Recovery (%)'].apply(lambda x: float(x.rstrip('%')))\n",
    "data.info()"
   ]
  },
  {
   "cell_type": "code",
   "execution_count": 4,
   "id": "98fec9a6",
   "metadata": {},
   "outputs": [
    {
     "data": {
      "text/html": [
       "<div>\n",
       "<style scoped>\n",
       "    .dataframe tbody tr th:only-of-type {\n",
       "        vertical-align: middle;\n",
       "    }\n",
       "\n",
       "    .dataframe tbody tr th {\n",
       "        vertical-align: top;\n",
       "    }\n",
       "\n",
       "    .dataframe thead th {\n",
       "        text-align: right;\n",
       "    }\n",
       "</style>\n",
       "<table border=\"1\" class=\"dataframe\">\n",
       "  <thead>\n",
       "    <tr style=\"text-align: right;\">\n",
       "      <th></th>\n",
       "      <th>Customer No.</th>\n",
       "      <th>Exposure at Default (in lakh Rs.)</th>\n",
       "      <th>Recovery (%)</th>\n",
       "      <th>Probability of Default</th>\n",
       "    </tr>\n",
       "  </thead>\n",
       "  <tbody>\n",
       "    <tr>\n",
       "      <th>0</th>\n",
       "      <td>1</td>\n",
       "      <td>11.50</td>\n",
       "      <td>20.00</td>\n",
       "      <td>0.0070</td>\n",
       "    </tr>\n",
       "    <tr>\n",
       "      <th>1</th>\n",
       "      <td>2</td>\n",
       "      <td>0.24</td>\n",
       "      <td>5.10</td>\n",
       "      <td>0.0033</td>\n",
       "    </tr>\n",
       "    <tr>\n",
       "      <th>2</th>\n",
       "      <td>3</td>\n",
       "      <td>0.04</td>\n",
       "      <td>24.86</td>\n",
       "      <td>0.0022</td>\n",
       "    </tr>\n",
       "    <tr>\n",
       "      <th>3</th>\n",
       "      <td>4</td>\n",
       "      <td>13.81</td>\n",
       "      <td>2.29</td>\n",
       "      <td>0.0066</td>\n",
       "    </tr>\n",
       "    <tr>\n",
       "      <th>4</th>\n",
       "      <td>5</td>\n",
       "      <td>19.84</td>\n",
       "      <td>3.47</td>\n",
       "      <td>0.0020</td>\n",
       "    </tr>\n",
       "  </tbody>\n",
       "</table>\n",
       "</div>"
      ],
      "text/plain": [
       "   Customer No.  Exposure at Default (in lakh Rs.)  Recovery (%)  \\\n",
       "0             1                              11.50         20.00   \n",
       "1             2                               0.24          5.10   \n",
       "2             3                               0.04         24.86   \n",
       "3             4                              13.81          2.29   \n",
       "4             5                              19.84          3.47   \n",
       "\n",
       "   Probability of Default  \n",
       "0                  0.0070  \n",
       "1                  0.0033  \n",
       "2                  0.0022  \n",
       "3                  0.0066  \n",
       "4                  0.0020  "
      ]
     },
     "execution_count": 4,
     "metadata": {},
     "output_type": "execute_result"
    }
   ],
   "source": [
    "data.head()"
   ]
  },
  {
   "cell_type": "markdown",
   "id": "d732fc12",
   "metadata": {},
   "source": [
    "## Question 1:\n",
    "Now, to find the expected loss, the bank has created the following table. As you already know, the probability of customer 1 being a defaulter is 0.007 and that of the customer not being a defaulter is 0.993. Now, in the case of default, what would be the value of X, i.e. the money lost by the bank?"
   ]
  },
  {
   "cell_type": "markdown",
   "id": "f0c825e6",
   "metadata": {},
   "source": [
    "Answer: Money lost by the bank is the loan amount they were unable to recover, once the customer is defaulted.\n",
    "Definging money lost by the bank as X.\n",
    "The value of Random variable X for customer number 1 is 9.2 lakh Rs."
   ]
  },
  {
   "cell_type": "code",
   "execution_count": 9,
   "id": "539a6dda",
   "metadata": {},
   "outputs": [],
   "source": [
    "data['X (Money Lost)'] = round(data['Exposure at Default (in lakh Rs.)'] - (data['Exposure at Default (in lakh Rs.)']*data['Recovery (%)'])/100,2)"
   ]
  },
  {
   "cell_type": "code",
   "execution_count": 10,
   "id": "1cdadbab",
   "metadata": {},
   "outputs": [
    {
     "data": {
      "text/html": [
       "<div>\n",
       "<style scoped>\n",
       "    .dataframe tbody tr th:only-of-type {\n",
       "        vertical-align: middle;\n",
       "    }\n",
       "\n",
       "    .dataframe tbody tr th {\n",
       "        vertical-align: top;\n",
       "    }\n",
       "\n",
       "    .dataframe thead th {\n",
       "        text-align: right;\n",
       "    }\n",
       "</style>\n",
       "<table border=\"1\" class=\"dataframe\">\n",
       "  <thead>\n",
       "    <tr style=\"text-align: right;\">\n",
       "      <th></th>\n",
       "      <th>Customer No.</th>\n",
       "      <th>Exposure at Default (in lakh Rs.)</th>\n",
       "      <th>Recovery (%)</th>\n",
       "      <th>Probability of Default</th>\n",
       "      <th>X (Money Lost)</th>\n",
       "    </tr>\n",
       "  </thead>\n",
       "  <tbody>\n",
       "    <tr>\n",
       "      <th>0</th>\n",
       "      <td>1</td>\n",
       "      <td>11.50</td>\n",
       "      <td>20.00</td>\n",
       "      <td>0.0070</td>\n",
       "      <td>9.20</td>\n",
       "    </tr>\n",
       "    <tr>\n",
       "      <th>1</th>\n",
       "      <td>2</td>\n",
       "      <td>0.24</td>\n",
       "      <td>5.10</td>\n",
       "      <td>0.0033</td>\n",
       "      <td>0.23</td>\n",
       "    </tr>\n",
       "    <tr>\n",
       "      <th>2</th>\n",
       "      <td>3</td>\n",
       "      <td>0.04</td>\n",
       "      <td>24.86</td>\n",
       "      <td>0.0022</td>\n",
       "      <td>0.03</td>\n",
       "    </tr>\n",
       "    <tr>\n",
       "      <th>3</th>\n",
       "      <td>4</td>\n",
       "      <td>13.81</td>\n",
       "      <td>2.29</td>\n",
       "      <td>0.0066</td>\n",
       "      <td>13.49</td>\n",
       "    </tr>\n",
       "    <tr>\n",
       "      <th>4</th>\n",
       "      <td>5</td>\n",
       "      <td>19.84</td>\n",
       "      <td>3.47</td>\n",
       "      <td>0.0020</td>\n",
       "      <td>19.15</td>\n",
       "    </tr>\n",
       "  </tbody>\n",
       "</table>\n",
       "</div>"
      ],
      "text/plain": [
       "   Customer No.  Exposure at Default (in lakh Rs.)  Recovery (%)  \\\n",
       "0             1                              11.50         20.00   \n",
       "1             2                               0.24          5.10   \n",
       "2             3                               0.04         24.86   \n",
       "3             4                              13.81          2.29   \n",
       "4             5                              19.84          3.47   \n",
       "\n",
       "   Probability of Default  X (Money Lost)  \n",
       "0                  0.0070            9.20  \n",
       "1                  0.0033            0.23  \n",
       "2                  0.0022            0.03  \n",
       "3                  0.0066           13.49  \n",
       "4                  0.0020           19.15  "
      ]
     },
     "execution_count": 10,
     "metadata": {},
     "output_type": "execute_result"
    }
   ],
   "source": [
    "data.head()"
   ]
  },
  {
   "cell_type": "markdown",
   "id": "2ef67684",
   "metadata": {},
   "source": [
    "## Question 2:\n",
    "Now, the bank wants to find the total expected loss. This is done by calculating the expected losses for each of the 10,000 customers and then adding them up."
   ]
  },
  {
   "cell_type": "code",
   "execution_count": 16,
   "id": "b67c2382",
   "metadata": {},
   "outputs": [
    {
     "name": "stdout",
     "output_type": "stream",
     "text": [
      "Total loss expected:  493.39 lakh Rs.\n"
     ]
    }
   ],
   "source": [
    "EV = (data['Probability of Default']*data['X (Money Lost)']).sum()\n",
    "\n",
    "print('Total loss expected: ',round(EV,2),'lakh Rs.')"
   ]
  },
  {
   "cell_type": "code",
   "execution_count": null,
   "id": "dc4daa31",
   "metadata": {},
   "outputs": [],
   "source": []
  }
 ],
 "metadata": {
  "kernelspec": {
   "display_name": "Python 3 (ipykernel)",
   "language": "python",
   "name": "python3"
  },
  "language_info": {
   "codemirror_mode": {
    "name": "ipython",
    "version": 3
   },
   "file_extension": ".py",
   "mimetype": "text/x-python",
   "name": "python",
   "nbconvert_exporter": "python",
   "pygments_lexer": "ipython3",
   "version": "3.11.5"
  }
 },
 "nbformat": 4,
 "nbformat_minor": 5
}
